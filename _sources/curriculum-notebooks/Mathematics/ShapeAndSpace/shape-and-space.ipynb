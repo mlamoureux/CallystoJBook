{
 "cells": [
  {
   "cell_type": "markdown",
   "metadata": {},
   "source": [
    "![Callysto.ca Banner](https://github.com/callysto/curriculum-notebooks/blob/master/callysto-notebook-banner-top.jpg?raw=true)\n",
    "\n",
    "<a href=\"https://hub.callysto.ca/jupyter/hub/user-redirect/git-pull?repo=https%3A%2F%2Fgithub.com%2Fcallysto%2Fcurriculum-notebooks&branch=master&subPath=Mathematics/ShapeAndSpace/shape-and-space.ipynb&depth=1\" target=\"_parent\"><img src=\"https://raw.githubusercontent.com/callysto/curriculum-notebooks/master/open-in-callysto-button.svg?sanitize=true\" width=\"123\" height=\"24\" alt=\"Open in Callysto\"/></a>"
   ]
  },
  {
   "cell_type": "code",
   "execution_count": null,
   "metadata": {},
   "outputs": [],
   "source": [
    "from IPython.display import HTML\n",
    "HTML('''<script>\n",
    "code_show=true; \n",
    "function code_toggle() {\n",
    " if (code_show){\n",
    " $('div.input').hide();\n",
    " } else {\n",
    " $('div.input').show();\n",
    " }\n",
    " code_show = !code_show\n",
    "} \n",
    "$( document ).ready(code_toggle);\n",
    "</script>\n",
    "The raw code for this IPython notebook is by default hidden for easier reading.\n",
    "To toggle on/off the raw code, click <a href=\"javascript:code_toggle()\">here</a>.''')"
   ]
  },
  {
   "cell_type": "code",
   "execution_count": null,
   "metadata": {},
   "outputs": [],
   "source": [
    "%%html\n",
    "<style>\n",
    ".output_wrapper button.btn.btn-default,\n",
    ".output_wrapper .ui-dialog-titlebar {\n",
    "  display: none;\n",
    "}\n",
    "</style>"
   ]
  },
  {
   "cell_type": "markdown",
   "metadata": {},
   "source": [
    "\n",
    "<h1 align='center'>Geometry: Shape and Space</h1>"
   ]
  },
  {
   "cell_type": "code",
   "execution_count": null,
   "metadata": {},
   "outputs": [],
   "source": [
    "import matplotlib.pyplot as plt\n",
    "import ipywidgets\n",
    "from ipywidgets import widgets, interact, interact_manual, Button, Layout\n",
    "from IPython.display import Javascript, display"
   ]
  },
  {
   "cell_type": "markdown",
   "metadata": {},
   "source": [
    "Geometry is one of the most valuable topics of everyday life. It is important for driving, cooking, drawing, decorating, and so many other tasks. It is also instinctive to human beings. Even babies use geometry when deciding that circular pieces fit in circular holes. So,  this notebook is describing the math behind natural activities.\n",
    "\n",
    "In this notebook, you will learn how to define and explain length, width. You will also learn how to explain height, depth, thickness, perimeter and circumference. This notebook will help introduce and explain the metric units. These topics will be taught through visual aids and interactive models."
   ]
  },
  {
   "cell_type": "markdown",
   "metadata": {},
   "source": [
    "## Background On Shapes\n",
    "\n",
    "To start describing geometric shapes, we will first have to decide in which way the shapes appear:\n",
    "\n",
    "## Two Dimensions\n",
    "\n",
    "In this case, objects appear flat. The following shapes illustrate this idea:"
   ]
  },
  {
   "cell_type": "markdown",
   "metadata": {},
   "source": [
    "<img src=\"../images/2dObjectsEmpty.png\">"
   ]
  },
  {
   "cell_type": "markdown",
   "metadata": {},
   "source": [
    "While these objects may seem very simple, they are a good way to introduce *length*, *width*, *perimeter*, and *circumference*. "
   ]
  },
  {
   "cell_type": "markdown",
   "metadata": {},
   "source": [
    "## Length and Width\n",
    "The **length** of some **rectangle** is the *longest* side, (Or *edge*), of it. But, the **width**, is the *shortest* side of a **rectangle**. A useful way to remember this is to think of **L**ength as **L**ong.\n",
    "\n",
    "We can label the rectangular shape with its length and width:"
   ]
  },
  {
   "cell_type": "markdown",
   "metadata": {},
   "source": [
    "<img src=\"../images/2dObjectsRectanglesHeight.png\">"
   ]
  },
  {
   "cell_type": "markdown",
   "metadata": {},
   "source": [
    "Now, you may be wondering, \"How do we fill out the **length** and **width** of a **square**, where all sides are equal?\" Because all sides are equal, this means that length and width are *interchangeable*. So ,we can have either of the following:"
   ]
  },
  {
   "cell_type": "markdown",
   "metadata": {},
   "source": [
    "<img src=\"../images/2dObjectsAllSquares.png\">"
   ]
  },
  {
   "cell_type": "markdown",
   "metadata": {},
   "source": [
    "Thus, we've found the **width** and **length** of all the rectangular shapes:"
   ]
  },
  {
   "cell_type": "markdown",
   "metadata": {},
   "source": [
    "<img src=\"../images/2dObjectsSquares.png\">"
   ]
  },
  {
   "cell_type": "markdown",
   "metadata": {},
   "source": [
    "### Practice Question 1\n",
    "\n",
    "Given the following **rectangle**:"
   ]
  },
  {
   "cell_type": "markdown",
   "metadata": {},
   "source": [
    "<img src=\"../images/PracticeQuestion1.png\">"
   ]
  },
  {
   "cell_type": "code",
   "execution_count": null,
   "metadata": {},
   "outputs": [],
   "source": [
    "from ipywidgets import interact_manual,widgets\n",
    "\n",
    "print(\"In the picture above, which edge is the width?\")\n",
    "        \n",
    "@interact(answer =widgets.RadioButtons(\n",
    "                    options=[\"A\", \"B\"],\n",
    "                    value=None,\n",
    "                    description=\"Answer: \",\n",
    "                    disabled=False\n",
    "))\n",
    "\n",
    "def reflective_angle_question(answer):\n",
    "    if answer==\"A\":\n",
    "        print(\"Correct!\\\n",
    "        \\nThe width is the shortest side of this rectangle.\")\n",
    "        \n",
    "    elif answer ==\"B\":\n",
    "        print(\"Incorrect.\\\n",
    "        \\nRemember, the width of a rectangle depends on its orientation.\")"
   ]
  },
  {
   "cell_type": "markdown",
   "metadata": {},
   "source": [
    "## Perimeter\n",
    "\n",
    "With this information we can now find the perimeter of a **rectangle** or **square**. The perimeter is the total length of all sides of a **rectangular shape**.\n",
    "\n",
    "To find the **perimeter** of a **rectangle**, one must *add all the sides* together. The formula for the perimeter of a rectangle is given by"
   ]
  },
  {
   "cell_type": "markdown",
   "metadata": {
    "scrolled": false
   },
   "source": [
    "\n",
    "<h3 align='center'>$\\ (Length) + (Length) + (Width) + (Width) = (Perimeter) $</h3>"
   ]
  },
  {
   "cell_type": "markdown",
   "metadata": {},
   "source": [
    "But, since we know that:"
   ]
  },
  {
   "cell_type": "markdown",
   "metadata": {
    "scrolled": false
   },
   "source": [
    "\n",
    "<h3 align='center'>$\\ (Length) + (Length) = 2 \\times (Length), $</h3>"
   ]
  },
  {
   "cell_type": "markdown",
   "metadata": {},
   "source": [
    "And that:"
   ]
  },
  {
   "cell_type": "markdown",
   "metadata": {
    "scrolled": false
   },
   "source": [
    "\n",
    "<h3 align='center'>$\\ (Width) + (Width) = 2 \\times (Width), $</h3>"
   ]
  },
  {
   "cell_type": "markdown",
   "metadata": {},
   "source": [
    "We can simplify the formula to look like:"
   ]
  },
  {
   "cell_type": "markdown",
   "metadata": {
    "scrolled": true
   },
   "source": [
    "\n",
    "<h3 align='center'>$\\ 2 \\times (Width) + 2 \\times (Length) = (Perimeter). $</h3>"
   ]
  },
  {
   "cell_type": "markdown",
   "metadata": {},
   "source": [
    "Now, we have a simplified formula for finding the perimeter of any **rectangle**. \n",
    "\n",
    "Finding the **perimeter** of any **square** is even simpler since we know that all sides have equal length. So, the formula is even simpler. You can either write:"
   ]
  },
  {
   "cell_type": "markdown",
   "metadata": {},
   "source": [
    "\n",
    "<h3 align='center'>$\\ 4 \\times (Width) = (Perimeter), $</h3>"
   ]
  },
  {
   "cell_type": "markdown",
   "metadata": {},
   "source": [
    "Or:"
   ]
  },
  {
   "cell_type": "markdown",
   "metadata": {
    "scrolled": true
   },
   "source": [
    "\n",
    "<h3 align='center'>$\\ 4 \\times (Length) = (Perimeter). $</h3>"
   ]
  },
  {
   "cell_type": "markdown",
   "metadata": {},
   "source": [
    "### Practice Question 2\n",
    "\n",
    "Given the following **rectangle**:"
   ]
  },
  {
   "cell_type": "markdown",
   "metadata": {},
   "source": [
    "<img src=\"../images/PracticeQuestion2.png\">"
   ]
  },
  {
   "cell_type": "code",
   "execution_count": null,
   "metadata": {},
   "outputs": [],
   "source": [
    "from ipywidgets import interact_manual,widgets\n",
    "\n",
    "print(\"What is the perimeter?\")\n",
    "       \n",
    "@interact(answer = widgets.Text(\n",
    "    placeholder = \"Enter your number here\",\n",
    "    description='Answer: ',\n",
    "    disabled=False\n",
    "))\n",
    "\n",
    "def reflective_angle_question(answer):\n",
    "    answer = answer.replace(\" \", \"\")\n",
    "    if answer == \"12\":\n",
    "        print(\"Correct!\\\n",
    "        \\nThe perimeter is 2*(2) + 2*(4), which equals 12.\")\n",
    "    \n",
    "    elif answer == \"\":\n",
    "        print(\"Type the perimeter of the rectangle.\")\n",
    "        \n",
    "    else:\n",
    "        print(\"Incorrect.\\\n",
    "        \\nRemember, the formula for calulating the perimeter is 2*(width) + 2*(length).\")"
   ]
  },
  {
   "cell_type": "markdown",
   "metadata": {},
   "source": [
    "## Diameter And Radius\n",
    "\n",
    "So far we've been focusing on rectangular objects, but now we must focus on circular shapes. We should know some useful facts about circles already, like how to find the **diameter** and **radius**, but we'll do a quick refresher on the subject.\n",
    "\n",
    "To find either of these values, we begin by locating the exact middle of the circle."
   ]
  },
  {
   "cell_type": "markdown",
   "metadata": {},
   "source": [
    "<img src=\"../images/CircleMiddle.png\">"
   ]
  },
  {
   "cell_type": "markdown",
   "metadata": {},
   "source": [
    "Next, if we drew a straight line from the middle to an edge of the circle, we'd get the **radius**:"
   ]
  },
  {
   "cell_type": "markdown",
   "metadata": {},
   "source": [
    "<img src=\"../images/CircleRadius.png\">"
   ]
  },
  {
   "cell_type": "markdown",
   "metadata": {},
   "source": [
    "We get the **diameter** if we draw a line starting from any edge of the circle to the middle, and then to another edge:"
   ]
  },
  {
   "cell_type": "markdown",
   "metadata": {},
   "source": [
    "<img src=\"../images/CircleDiameter.png\">"
   ]
  },
  {
   "cell_type": "markdown",
   "metadata": {},
   "source": [
    "It is also important to note that the **radius** of any circle is *half* the size of the **diameter**:"
   ]
  },
  {
   "cell_type": "markdown",
   "metadata": {
    "scrolled": true
   },
   "source": [
    "\n",
    "<h3 align='center'>$\\ \\frac{Diameter}{2} = (Radius) $</h3>"
   ]
  },
  {
   "cell_type": "markdown",
   "metadata": {},
   "source": [
    "You can think of the **diameter** as being *twice* the **radius**."
   ]
  },
  {
   "cell_type": "markdown",
   "metadata": {},
   "source": [
    "\n",
    "<h3 align='center'>$\\ 2 \\times (Radius) = (Diameter) $</h3>"
   ]
  },
  {
   "cell_type": "markdown",
   "metadata": {},
   "source": [
    "## Circumference\n",
    "\n",
    "Now that we've found the radius and the diameter, we can begin to look at how to find the **circumference** of the circle. \n",
    "\n",
    "First, we will define what the circumference actually is. The **circumference** is the total length around the circle:"
   ]
  },
  {
   "cell_type": "markdown",
   "metadata": {},
   "source": [
    "<img src=\"../images/CircleCircumference.png\">"
   ]
  },
  {
   "cell_type": "markdown",
   "metadata": {},
   "source": [
    "To find the **circumference** of any circle, we first have to find either the **radius** or the **diameter**. Then, we can use either of the following formulas to calculate the circumference.\n",
    "\n",
    "If we only have the **radius**, we can use the following formula to calculate the **circumference**:"
   ]
  },
  {
   "cell_type": "markdown",
   "metadata": {},
   "source": [
    "\n",
    "<h3 align='center'>$\\ 2 \\times \\pi \\times (Radius) = (Circumference) $</h3>"
   ]
  },
  {
   "cell_type": "markdown",
   "metadata": {},
   "source": [
    "If we only have the **diameter**, we can use the following formula to calculate the **circumference**:"
   ]
  },
  {
   "cell_type": "markdown",
   "metadata": {},
   "source": [
    "\n",
    "<h3 align='center'>$\\ \\pi \\times (Diameter) = (Circumference) $</h3>"
   ]
  },
  {
   "cell_type": "markdown",
   "metadata": {},
   "source": [
    "Now we have a formula we can use to calculate the **circumference** of a circle!"
   ]
  },
  {
   "cell_type": "markdown",
   "metadata": {},
   "source": [
    "### Practice Question 3\n",
    "\n",
    "Given the following **circle**:"
   ]
  },
  {
   "cell_type": "markdown",
   "metadata": {},
   "source": [
    "<img src=\"../images/PracticeQuestion3.png\">"
   ]
  },
  {
   "cell_type": "code",
   "execution_count": null,
   "metadata": {},
   "outputs": [],
   "source": [
    "from ipywidgets import interact_manual,widgets\n",
    "\n",
    "print(\"What is the circumference? (Round to the nearest whole number)\")\n",
    "       \n",
    "@interact(answer =widgets.Text(\n",
    "    placeholder = \"Enter your number here\",\n",
    "    description='Answer: ',\n",
    "    disabled=False\n",
    "))\n",
    "\n",
    "def reflective_angle_question(answer):\n",
    "    answer = answer.replace(\" \", \"\")\n",
    "    if answer == \"44\":\n",
    "        print(\"Correct!\\\n",
    "        \\nThe circumference is 2 * pi * (7). This equals 43.982297... which is rounded to 44.\")\n",
    "    \n",
    "    elif answer == \"\":\n",
    "        print(\"Type the circumference of the circle.\")\n",
    "        \n",
    "    else:\n",
    "        print(\"Incorrect.\\\n",
    "        \\nRemember, we are only given the radius here.\")"
   ]
  },
  {
   "cell_type": "markdown",
   "metadata": {},
   "source": [
    "## Three Dimensions\n",
    "\n",
    "In three dimensions objects appear to have depth. Suppose you are looking at the following rectangle from the black circle:"
   ]
  },
  {
   "cell_type": "markdown",
   "metadata": {},
   "source": [
    "<img src=\"../images/3dObjectsRectangle.png\">"
   ]
  },
  {
   "cell_type": "markdown",
   "metadata": {},
   "source": [
    "One can see that a 3 dimensional rectangle has many more unique edges than a 2 dimensional one. To account for these changes humans came up with new terms to help describe these shapes. "
   ]
  },
  {
   "cell_type": "markdown",
   "metadata": {},
   "source": [
    "## Height\n",
    "\n",
    "The **height** of a rectangle helps describe how **tall** some object is. This is the edge that goes vertically from the top of the shape to the bottom. A useful way to remember this is to think heigh**t** is for **t**all."
   ]
  },
  {
   "cell_type": "markdown",
   "metadata": {},
   "source": [
    "<img src=\"../images/3dObjectsRectangleHeight.png\">"
   ]
  },
  {
   "cell_type": "markdown",
   "metadata": {},
   "source": [
    "We can also find the height of a 2 dimensional shape:"
   ]
  },
  {
   "cell_type": "markdown",
   "metadata": {},
   "source": [
    "<img src=\"../images/2dObjectsRectanglesHeight.png\">"
   ]
  },
  {
   "cell_type": "markdown",
   "metadata": {},
   "source": [
    "## Depth\n",
    "\n",
    "The **depth** of a rectangle is how **deep** an object goes in. This is the edge that goes away from you. A useful way to remember this is to to think **d**epth is for **d**eep. "
   ]
  },
  {
   "cell_type": "markdown",
   "metadata": {},
   "source": [
    "<img src=\"../images/3dObjectsRectangleDepth.png\">"
   ]
  },
  {
   "cell_type": "markdown",
   "metadata": {},
   "source": [
    "## Width\n",
    "\n",
    "The **width** of a 3 dimensional rectangle is the edge that's facing you. It's usually the one directly at the bottom of where you're facing."
   ]
  },
  {
   "cell_type": "markdown",
   "metadata": {},
   "source": [
    "<img src=\"../images/3dObjectsRectangleWidth.png\">"
   ]
  },
  {
   "cell_type": "markdown",
   "metadata": {},
   "source": [
    "## Thickness\n",
    "\n",
    "The **thickness** of a 3 dimensional shape is how deep some face of the shape is. A good way to picture this is to think about the walls of your house. The distance between the inside wall and the outer wall is the thickness of your house. This idea can be applied to all types of boxes and shapes, even lines:"
   ]
  },
  {
   "cell_type": "markdown",
   "metadata": {},
   "source": [
    "<img src=\"../images/LineThickness.png\">"
   ]
  },
  {
   "cell_type": "markdown",
   "metadata": {},
   "source": [
    "## Cube\n",
    "\n",
    "As you may have guessed, the process of deciding **height**, **depth**, **thickness**, and **width** is the same for a cube:"
   ]
  },
  {
   "cell_type": "markdown",
   "metadata": {},
   "source": [
    "<img src=\"../images/3dObjectsSquare.png\">"
   ]
  },
  {
   "cell_type": "markdown",
   "metadata": {},
   "source": [
    "The only difference here is that the length of every edge is the same."
   ]
  },
  {
   "cell_type": "markdown",
   "metadata": {},
   "source": [
    "### Practice Question 4\n",
    "\n",
    "You view the following **rectangle** from the black circle:"
   ]
  },
  {
   "cell_type": "markdown",
   "metadata": {},
   "source": [
    "<img src=\"../images/PracticeQuestion4.png\">"
   ]
  },
  {
   "cell_type": "code",
   "execution_count": null,
   "metadata": {},
   "outputs": [],
   "source": [
    "from ipywidgets import interact_manual,widgets\n",
    "\n",
    "print(\"Which edge is the depth?\")\n",
    "        \n",
    "@interact(answer =widgets.RadioButtons(\n",
    "                    options=[\"A\", \"B\", \"C\"],\n",
    "                    value=None,\n",
    "                    description=\"Answer: \",\n",
    "                    disabled=False\n",
    "))\n",
    "\n",
    "def reflective_angle_question(answer):\n",
    "    if answer==\"A\":\n",
    "        print(\"Incorrect.\\\n",
    "        \\nRemember, the depth is how deep, or far back an object goes, from your perspective.\")\n",
    "        \n",
    "    elif answer ==\"B\":\n",
    "        print(\"Correct!\\\n",
    "        \\nThe depth is how deep, or far back an object goes, from your perspective.\")\n",
    "        \n",
    "    elif answer ==\"C\":\n",
    "        print(\"Incorrect.\\\n",
    "        \\nRemember, the depth is how deep, or far back an object goes, from your perspective.\")"
   ]
  },
  {
   "cell_type": "code",
   "execution_count": null,
   "metadata": {},
   "outputs": [],
   "source": [
    "from ipywidgets import interact_manual,widgets\n",
    "\n",
    "print(\"Which edge is the height?\")\n",
    "        \n",
    "@interact(answer =widgets.RadioButtons(\n",
    "                    options=[\"A\", \"B\", \"C\"],\n",
    "                    value=None,\n",
    "                    description=\"Answer: \",\n",
    "                    disabled=False\n",
    "))\n",
    "\n",
    "def reflective_angle_question(answer):\n",
    "    if answer==\"A\":\n",
    "        print(\"Incorrect.\\\n",
    "        \\nRemember, the height is the edge that goes vertically, or top to bottom.\")\n",
    "        \n",
    "    elif answer ==\"B\":\n",
    "        print(\"Incorrect.\\\n",
    "        \\nRemember, the height is the edge that goes vertically, or top to bottom.\")\n",
    "        \n",
    "    elif answer ==\"C\":\n",
    "        print(\"Correct!\\\n",
    "        \\nThe height is the side that goes from top to bottom.\")"
   ]
  },
  {
   "cell_type": "code",
   "execution_count": null,
   "metadata": {},
   "outputs": [],
   "source": [
    "from ipywidgets import interact_manual,widgets\n",
    "\n",
    "print(\"Which edge is the width?\")\n",
    "        \n",
    "@interact(answer =widgets.RadioButtons(\n",
    "                    options=[\"A\", \"B\", \"C\"],\n",
    "                    value=None,\n",
    "                    description=\"Answer: \",\n",
    "                    disabled=False\n",
    "))\n",
    "\n",
    "def reflective_angle_question(answer):\n",
    "    if answer==\"A\":\n",
    "        print(\"Correct!\\\n",
    "        \\nThe width is the edge of the object that is closest to you, from your perspective.\")\n",
    "        \n",
    "    elif answer ==\"B\":\n",
    "        print(\"Incorrect.\\\n",
    "        \\nRemember, the width is the edge of the object that is closest to you, from your perspective.\")\n",
    "        \n",
    "    elif answer ==\"C\":\n",
    "        print(\"Incorrect.\\\n",
    "        \\nRemember, the width is the edge of the object that is closest to you, from your perspective.\")"
   ]
  },
  {
   "cell_type": "markdown",
   "metadata": {},
   "source": [
    "## Measurements\n",
    "\n",
    "The last topic we will introduce in this section is the topic of **measurements**.\n",
    "\n",
    "This topic is important to every day life as it simplifies a lot of human activities. Think about the length of one of your nails. That length can't be treated the same way as the length it takes to go to the Moon from Earth. In other, 'mathier', words, we can't calculate long distances using the same methods we calculate small ones. Otherwise we'd get huge numbers for the long stuff, or tiny ones for the small stuff.\n",
    "\n",
    "So, humans came up with a way to solve this problem, and they created the **metric units**. These metric units help to calculate lengths. There are 7 of these units we need to focus on: **Kilometers**, **hectometers**, **decameters**, **meters**, **decimeters**, **centimeters**, and **millimeters**.\n",
    "\n",
    "While this may seem like a lot of units to memorize, they'll become very intuitive by the end of this lesson.\n",
    "\n",
    "The following is a diagram of how these units all interact together. It shows what **1 meter** would look like in each of the units. Make sure to take your time studying it."
   ]
  },
  {
   "cell_type": "markdown",
   "metadata": {},
   "source": [
    "<img src=\"../images/LadderMethod.png\">"
   ]
  },
  {
   "cell_type": "markdown",
   "metadata": {},
   "source": [
    "As you may be able to tell from the diagram, these units interact with each other in a special way. This concept is explained in the following two ways:\n",
    "\n",
    "**GOING UP each step is 10 times BIGGER than the last step:** This means that each time you go up a step, your measurement becomes longer. For example, 10 meters, (*m*), is equal to 1 decameter, (*dam*). So, each time you go up a step, you must *divide by 10.* \n",
    "\n",
    "**GOING DOWN each step is 10 times SMALLER than the last step:** This means that each time you go down a step, your measurement becomes smaller. For example, 1 meter, (*m*), is equal to 10 decimeters, (*dm*). So, each time you go down a step, you must *multiply by 10.* \n",
    "\n",
    "So, try to remember: *Going down is multiply, Going up is divide.*"
   ]
  },
  {
   "cell_type": "markdown",
   "metadata": {},
   "source": [
    "### An Useful Way To Memorize\n",
    "\n",
    "We can use a phrase to help remember each of the measurements and where they go on the stairs is:\n",
    "\n",
    "**\"King Henry Died By Drinking Chocolate Milk.\"**\n",
    "\n",
    "Then, we know that:\n",
    "\n",
    "**K**ing is for **K**ilometers.\n",
    "\n",
    "**H**enry is for **H**ectometers.\n",
    "\n",
    "**D**ied is for **D**ecameters.\n",
    "\n",
    "**B**y is for **B**ase or **Meters**.\n",
    "\n",
    "**D**rinking is for **D**ecimeters.\n",
    "\n",
    "**C**hocolate is for **C**entimeters.\n",
    "\n",
    "**M**ilk is for **M**illimeters."
   ]
  },
  {
   "cell_type": "markdown",
   "metadata": {},
   "source": [
    "### Some Example Questions\n",
    "\n",
    "Suppose you had 5 **decameters**, (*dam*), and you wanted to turn them into **kilometers**, (*km*). We know that going from **decameters** to **kilometers** is going **UP** 2 steps, so we must divide the amount of hectometers by 10 twice. This is because:"
   ]
  },
  {
   "cell_type": "markdown",
   "metadata": {},
   "source": [
    "\n",
    "<h3 align='center'>$\\ \\frac{Decameter}{10} = (Hectometer) $</h3>"
   ]
  },
  {
   "cell_type": "markdown",
   "metadata": {},
   "source": [
    "And:"
   ]
  },
  {
   "cell_type": "markdown",
   "metadata": {},
   "source": [
    "\n",
    "<h3 align='center'>$\\ \\frac{Hectometer}{10} = (Kilometer) $</h3>"
   ]
  },
  {
   "cell_type": "markdown",
   "metadata": {},
   "source": [
    "Then, we can find the answer by writing:"
   ]
  },
  {
   "cell_type": "markdown",
   "metadata": {},
   "source": [
    "\n",
    "<h3 align='center'>$\\ \\frac{Decameters}{10 \\times 10} = \\frac{Decameters}{100} = (Kilometers) $</h3>"
   ]
  },
  {
   "cell_type": "markdown",
   "metadata": {},
   "source": [
    "So:"
   ]
  },
  {
   "cell_type": "markdown",
   "metadata": {},
   "source": [
    "\n",
    "<h3 align='center'>$\\ \\frac{5}{100} = 0.05 $</h3>"
   ]
  },
  {
   "cell_type": "markdown",
   "metadata": {},
   "source": [
    "**ANSWER:** 5 *dam* = 0.05 *km*. "
   ]
  },
  {
   "cell_type": "markdown",
   "metadata": {},
   "source": [
    "Suppose instead that you had 7 **centimeters**, (*cm*), and you wanted to turn them into **millimeters**, (*mm*). We know that going from **centimeters** to **milimeters** is going **DOWN** 1 step, so we must multiply the amount of centimeters by 10 once. This is because:"
   ]
  },
  {
   "cell_type": "markdown",
   "metadata": {},
   "source": [
    "\n",
    "<h3 align='center'>$\\ (Centimeter) \\times 10 = (Milimeter) $</h3>"
   ]
  },
  {
   "cell_type": "markdown",
   "metadata": {},
   "source": [
    "Then, we can find the answer by doing:"
   ]
  },
  {
   "cell_type": "markdown",
   "metadata": {},
   "source": [
    "\n",
    "<h3 align='center'>$ 7 \\times 10 = (70) $</h3>"
   ]
  },
  {
   "cell_type": "markdown",
   "metadata": {},
   "source": [
    "**ANSWER:** 7 *cm* = 70 *mm*"
   ]
  },
  {
   "cell_type": "markdown",
   "metadata": {},
   "source": [
    "### Practice Question 5\n",
    "\n",
    "Please answer the following true or false questions."
   ]
  },
  {
   "cell_type": "code",
   "execution_count": null,
   "metadata": {},
   "outputs": [],
   "source": [
    "print(\"True or False: 33 decimeters greater than 0.032 decameters.\")\n",
    "\n",
    "@interact(answer = widgets.RadioButtons(\n",
    "    options=['True', 'False'],\n",
    "    description='Answer:',\n",
    "    value = None,\n",
    "    disabled=False\n",
    "))\n",
    "\n",
    "def reflective_angle_question(answer):\n",
    "    if answer==\"True\":\n",
    "        print(\"Correct!\\\n",
    "        \\n33 decimeters is 0.33 decameters, which is greater than the 0.032 decameters.\")\n",
    "        \n",
    "    elif answer ==\"False\":\n",
    "        print(\"Incorrect.\\\n",
    "        \\nRemember, going from decimeters to decameters is going up 2 steps.\")"
   ]
  },
  {
   "cell_type": "code",
   "execution_count": null,
   "metadata": {},
   "outputs": [],
   "source": [
    "print(\"True or False: 0.4 hectometers greater than 43 meters.\")\n",
    "\n",
    "@interact(answer = widgets.RadioButtons(\n",
    "    options=['True', 'False'],\n",
    "    description='Answer:',\n",
    "    value = None,\n",
    "    disabled=False\n",
    "))\n",
    "\n",
    "def reflective_angle_question(answer):\n",
    "    if answer==\"True\":\n",
    "        print(\"Incorrect.\\\n",
    "        \\nRemember, going from hectometers to meters is going down 2 steps.\")\n",
    "        \n",
    "    elif answer ==\"False\":\n",
    "        print(\"Correct!\\\n",
    "        \\n0.4 decimeters is 40 meters, which is less than the 43 meters.\")"
   ]
  },
  {
   "cell_type": "code",
   "execution_count": null,
   "metadata": {},
   "outputs": [],
   "source": [
    "print(\"True or False: 3852 milimeters greater than 30 meters.\")\n",
    "\n",
    "@interact(answer = widgets.RadioButtons(\n",
    "    options=['True', 'False'],\n",
    "    description='Answer:',\n",
    "    value = None,\n",
    "    disabled=False\n",
    "))\n",
    "\n",
    "def reflective_angle_question(answer):\n",
    "    if answer==\"True\":\n",
    "        print(\"Incorrect.\\\n",
    "        \\nRemember, going from milimeters to meters is going up 3 steps.\")\n",
    "        \n",
    "    elif answer ==\"False\":\n",
    "        print(\"Correct!\\\n",
    "        \\n3852 milimeters is 3.852 meters, which is less than the 30 meters.\")"
   ]
  },
  {
   "cell_type": "markdown",
   "metadata": {},
   "source": [
    "### Practice Question 6\n",
    "\n",
    "The average conventional freight trains in the US are about **2 kilometers** long."
   ]
  },
  {
   "cell_type": "code",
   "execution_count": null,
   "metadata": {},
   "outputs": [],
   "source": [
    "from ipywidgets import interact_manual,widgets\n",
    "\n",
    "print(\"How long would the train be in meters?\")\n",
    "       \n",
    "@interact(answer = widgets.Text(\n",
    "    placeholder = \"Enter your number here\",\n",
    "    description = 'Answer: ',\n",
    "    disabled = False\n",
    "))\n",
    "\n",
    "def reflective_angle_question(answer):\n",
    "    answer = answer.replace(\" \", \"\")\n",
    "    if answer == \"2000\":\n",
    "        print(\"Correct!\\\n",
    "        \\nThe train is 2 kilometers long, and going from kilometers to meters is going down 4 steps. \\\n",
    "        \\nThen, we do 2 * 10 * 10 * 10. This equals 2000 meters\")\n",
    "    \n",
    "    elif answer == \"\":\n",
    "        print(\"Type the length of the train in meters.\")\n",
    "        \n",
    "    else:\n",
    "        print(\"Incorrect.\\\n",
    "        \\nRemember, going from kilometers to meters is going down 4 steps.\")"
   ]
  },
  {
   "cell_type": "code",
   "execution_count": null,
   "metadata": {},
   "outputs": [],
   "source": [
    "from ipywidgets import interact_manual,widgets\n",
    "\n",
    "print(\"How long would the train be in decameters?\")\n",
    "       \n",
    "@interact(answer = widgets.Text(\n",
    "    placeholder = \"Enter your number here\",\n",
    "    description = 'Answer: ',\n",
    "    disabled = False\n",
    "))\n",
    "\n",
    "def reflective_angle_question(answer):\n",
    "    answer = answer.replace(\" \", \"\")\n",
    "    if answer == \"200\":\n",
    "        print(\"Correct\\\n",
    "        \\nThe train is 2 kilometers long, and going from kilometers to decameters is going down 2 steps. \\\n",
    "        \\nThen, we do 2 * 10 * 10. This equals 200 decameters.\")\n",
    "    \n",
    "    elif answer == \"\":\n",
    "        print(\"Type the length of the train in decameters.\")\n",
    "        \n",
    "    else:\n",
    "        print(\"Incorrect.\\\n",
    "        \\nRemember, going from kilometers to decameters is going down 2 steps.\")"
   ]
  },
  {
   "cell_type": "markdown",
   "metadata": {},
   "source": [
    "### Practice Question 7\n",
    "\n",
    "You have a piece of square wallpaper that has an area of **14 meters**."
   ]
  },
  {
   "cell_type": "code",
   "execution_count": null,
   "metadata": {},
   "outputs": [],
   "source": [
    "print(\"Would the wallpaper cover a 365 decimeter square area?\")\n",
    "\n",
    "@interact(answer = widgets.RadioButtons(\n",
    "    options=['True', 'False'],\n",
    "    description='Answer:',\n",
    "    value = None,\n",
    "    disabled=False\n",
    "))\n",
    "\n",
    "def reflective_angle_question(answer):\n",
    "    if answer==\"True\":\n",
    "        print(\"Incorrect!\\\n",
    "        \\nRemember, going from meters to decimeters is going down 1 step.\")\n",
    "        \n",
    "    elif answer ==\"False\":\n",
    "        print(\"Correct!\\\n",
    "        \\n14 meters is 140 decimeters, which is less than the 365 decimeter square we need to cover.\")"
   ]
  },
  {
   "cell_type": "code",
   "execution_count": null,
   "metadata": {},
   "outputs": [],
   "source": [
    "print(\"Would the wallpaper cover a 470 centimeter square area?\")\n",
    "\n",
    "@interact(answer = widgets.RadioButtons(\n",
    "    options=['True', 'False'],\n",
    "    description='Answer:',\n",
    "    value = None,\n",
    "    disabled=False\n",
    "))\n",
    "\n",
    "def reflective_angle_question(answer):\n",
    "    if answer==\"True\":\n",
    "        print(\"Correct!\\\n",
    "        \\n14 meters is 1400 centimeters, which is longer than the 470 centimeter square we need to cover.\")\n",
    "        \n",
    "    elif answer ==\"False\":\n",
    "        print(\"Incorrect.\\\n",
    "        \\nRemember, going from meters to centimeters is going down 2 steps.\")"
   ]
  },
  {
   "cell_type": "code",
   "execution_count": null,
   "metadata": {},
   "outputs": [],
   "source": [
    "print(\"Would the wallpaper cover a 0.14 hectometer square area?\")\n",
    "\n",
    "@interact(answer = widgets.RadioButtons(\n",
    "    options=['True', 'False'],\n",
    "    description='Answer:',\n",
    "    value = None,\n",
    "    disabled=False\n",
    "))\n",
    "\n",
    "def reflective_angle_question(answer):\n",
    "    if answer==\"True\":\n",
    "        print(\"Correct!\\\n",
    "        \\n14 meters is 0.14 hectometers, which is the same length as the square we need to cover.\")\n",
    "        \n",
    "    elif answer ==\"False\":\n",
    "        print(\"Incorrect.\\\n",
    "        \\nRemember, going from meters to hectometers is going up 2 steps.\")"
   ]
  },
  {
   "cell_type": "code",
   "execution_count": null,
   "metadata": {},
   "outputs": [],
   "source": [
    "print(\"Would the wallpaper cover a 0.02 kilometer square area?\")\n",
    "\n",
    "@interact(answer = widgets.RadioButtons(\n",
    "    options=['True', 'False'],\n",
    "    description='Answer:',\n",
    "    value = None,\n",
    "    disabled=False\n",
    "))\n",
    "\n",
    "def reflective_angle_question(answer):\n",
    "    if answer==\"True\":\n",
    "        print(\"Incorrect!\\\n",
    "        \\nRemember, going from meters to kilometers is going up 3 steps.\")\n",
    "        \n",
    "    elif answer ==\"False\":\n",
    "        print(\"Correct!\\\n",
    "        \\n14 meters is 0.014 kilometers, which is less than the 0.02 kilometer square we need to cover.\")"
   ]
  },
  {
   "cell_type": "markdown",
   "metadata": {},
   "source": [
    "## Calculator For Measurements\n",
    "\n",
    "The following is an interactive calculator for going from any of the 7 units to another unit:"
   ]
  },
  {
   "cell_type": "code",
   "execution_count": null,
   "metadata": {},
   "outputs": [],
   "source": [
    "from ipywidgets import interact_manual,widgets\n",
    "from IPython.display import display\n",
    "\n",
    "#List of all possible measurement types.\n",
    "MeasureList = ['Kilometers', 'Hectometers', 'Decameters', 'Meters', \\\n",
    "               'Decimeters', 'Centimeters', 'Millimeters']\n",
    "\n",
    "#Used to ensure the description text doesn't get cut off.\n",
    "style = {'description_width': 'initial'}\n",
    "\n",
    "#Let user choose the final measurement. \n",
    "#Bounded between 0 and 9999 to make sure it's positive.\n",
    "initVal = widgets.BoundedFloatText(value = 0, \\\n",
    "                                   min = 0, \\\n",
    "                                   max = 9999, \\\n",
    "                                   description = 'Measurement Value:', \\\n",
    "                                   style = style)\n",
    "\n",
    "#Let user choose the initial measurement.\n",
    "initMeas = widgets.SelectionSlider(options = MeasureList, \\\n",
    "                                   value = 'Kilometers', \\\n",
    "                                   description = 'Initial Measurement:', \\\n",
    "                                   style = style)\n",
    "\n",
    "#Let user choose the final measurement.\n",
    "finMeas = widgets.SelectionSlider(options = MeasureList, \\\n",
    "                                  value = 'Kilometers', \\\n",
    "                                  description = 'Final Measurement:', \\\n",
    "                                  style = style)\n",
    "\n",
    "#Displaying all the previously created widgets in order.\n",
    "display(initVal)\n",
    "display(initMeas)\n",
    "display(finMeas)"
   ]
  },
  {
   "cell_type": "code",
   "execution_count": null,
   "metadata": {},
   "outputs": [],
   "source": [
    "from ipywidgets import interact_manual,widgets\n",
    "from IPython.display import display\n",
    "import decimal\n",
    "\n",
    "#\"MeasureDict\" assigns a numeric value to each of the units of measurement. This will help us to calculate\n",
    "# going from one unit to another.\n",
    "MeasureDict = {'Kilometers' : 7, 'Hectometers': 6, 'Decameters': 5,\\\n",
    "               'Meters': 4, 'Decimeters': 3, 'Centimeters': 2, 'Millimeters': 1}\n",
    "\n",
    "#\"calculate_final\" will determine what the final value obtained from the new measurement type.\n",
    "def calculate_final(initV, initM, finM):\n",
    "    \n",
    "    #Create the global value finV. This will store the final measurement value.\n",
    "    global finV\n",
    "    \n",
    "    #Find the difference, (diff), between initM and finM and store it in diff. Two cases exist:\n",
    "    #  1. diff is less than or equal to 0:\n",
    "    #     In this case the final measurement type is smaller than or equal to the initial measurement type.\n",
    "    #     Therefore, must divide by 10 |diff| amount of times, (Or simply multiply 10 ** diff)\n",
    "    #\n",
    "    #  2. diff is greater than 0:\n",
    "    #     In this case the final measurement type is greater than or equal to the final measurement type.\n",
    "    #     Therefore, must multiply by 10 diff amount of times, (Or simply multiply 10 ** diff)\n",
    "    #\n",
    "    #Thus, we can use 10**diff as it works for both cases.\n",
    "    diff = initM - finM\n",
    "    finV = initV * 10**diff\n",
    "\n",
    "#Create a button to calculate the change in measurement.\n",
    "button = widgets.Button(description=\"Calculate\")\n",
    "display(button)\n",
    "\n",
    "def on_button_clicked(b):\n",
    "    #Get the initial value inputed as an integer.\n",
    "    initV = initVal.value\n",
    "    \n",
    "    #Get the initial measurement inputed as a string.\n",
    "    initM = initMeas.value\n",
    "    \n",
    "    #Get the final measurement inputed as a string.\n",
    "    finM = finMeas.value\n",
    "    \n",
    "    #Get the key value of the initial measurement type.\n",
    "    initMeasKey = MeasureDict.get(initM)\n",
    "\n",
    "    #Get the key value of the final measurement type.\n",
    "    finMeasKey = MeasureDict.get(finM)\n",
    "\n",
    "    #Calculate the final value.\n",
    "    calculate_final(initV, initMeasKey, finMeasKey)\n",
    "    \n",
    "    #Since after 4 decimal places python begins to use scientific notation, checkFp will be the final value\n",
    "    # rounded to the last 4 decimal places.\n",
    "    checkFp = float(format(finV, '.4f'))\n",
    "    \n",
    "    #If the value of checkFp is equal to finV, then simply print out the value of finV.\n",
    "    if (checkFp - finV) == 0:\n",
    "        print(\"Your initial measurement of \" + str(initV) + \" \" + initM + \\\n",
    "              \" becomes \" + str(finV) + \" \" + finM + \".\")\n",
    "\n",
    "    #Otherwise, if the value of checkFp is not equal to finV, then print the value of finV rounded to the 6th \n",
    "    # decimal place.\n",
    "    else:\n",
    "        print(\"Your initial measurement of \" + str(initV) + \" \" + initM + \\\n",
    "              \" becomes \" + format(finV, ',.6f') + \" \" + finM + \".\")\n",
    "        \n",
    "button.on_click(on_button_clicked)"
   ]
  },
  {
   "cell_type": "markdown",
   "metadata": {},
   "source": [
    "\n",
    "<h1 align='center'> Exercises </h1>"
   ]
  },
  {
   "cell_type": "markdown",
   "metadata": {},
   "source": [
    "## Question 1\n",
    "\n",
    "Given the following **circle**:"
   ]
  },
  {
   "cell_type": "markdown",
   "metadata": {},
   "source": [
    "<img src=\"../images/Question1.png\">"
   ]
  },
  {
   "cell_type": "code",
   "execution_count": null,
   "metadata": {},
   "outputs": [],
   "source": [
    "from ipywidgets import interact_manual,widgets\n",
    "\n",
    "print(\"What is the radius? (Round to the nearest CENTIMETER)\")\n",
    "\n",
    "@interact(answer =widgets.Text(\n",
    "    placeholder = \"Enter your number here\",\n",
    "    description='Answer: ',\n",
    "    disabled=False\n",
    "))\n",
    "\n",
    "def reflective_angle_question(answer):\n",
    "    answer = answer.replace(\" \", \"\")\n",
    "    if answer == \"3\":\n",
    "        print(\"Correct!\\\n",
    "        \\nThe radius is 19 ÷ (2 * pi). This equals 3.02394... cm which is rounded to 3 cm.\")\n",
    "    \n",
    "    elif answer == \"\":\n",
    "        print(\"Type the radius of the circle.\")\n",
    "        \n",
    "    else:\n",
    "        print(\"Incorrect.\\\n",
    "        \\nRemember, in this question we are given the circumference. \\\n",
    "        \\nTry to find a way to go from circumference to radius.\")"
   ]
  },
  {
   "cell_type": "code",
   "execution_count": null,
   "metadata": {
    "scrolled": true
   },
   "outputs": [],
   "source": [
    "from ipywidgets import interact_manual,widgets\n",
    "\n",
    "print(\"What is the diameter? (Round to the nearest METER)\")\n",
    "       \n",
    "@interact(answer =widgets.Text(\n",
    "    placeholder = \"Enter your number here\",\n",
    "    description = 'Answer: ',\n",
    "    disabled = False\n",
    "))\n",
    "\n",
    "def reflective_angle_question(answer):\n",
    "    answer = answer.replace(\" \" , \"\")\n",
    "    if answer == \"0.06\":\n",
    "        print(\"Correct!\\\n",
    "        \\nThe diameter is twice the radius, which we found to be 3cm in the last question. \\\n",
    "        \\nThen, we divide the diameter by 100 to get it to 0.06m.\")\n",
    "    \n",
    "    elif answer == \"\":\n",
    "        print(\"Type the diameter of the circle.\")\n",
    "        \n",
    "    else:\n",
    "        print(\"Incorrect.\\\n",
    "        \\nRemember, in this question we want the nearest meter. \\\n",
    "        \\nTry using the relationship between radius and diameter.\")"
   ]
  },
  {
   "cell_type": "markdown",
   "metadata": {},
   "source": [
    "## Question 2\n",
    "\n",
    "Bob is a farmer who built a perfectly square fence that had a perimeter of 32 meters. Suppose that Bob wanted to build the largest circular fence he could inside the square fence."
   ]
  },
  {
   "cell_type": "code",
   "execution_count": null,
   "metadata": {},
   "outputs": [],
   "source": [
    "from ipywidgets import interact_manual,widgets\n",
    "\n",
    "print(\"What is the circumference of the circular fence? (Round to the nearest METER)\")\n",
    "       \n",
    "@interact(answer =widgets.Text(\n",
    "    placeholder = \"Enter your number here\",\n",
    "    description='Answer: ',\n",
    "    disabled=False\n",
    "))\n",
    "\n",
    "def reflective_angle_question(answer):\n",
    "    answer = answer.replace(\" \", \"\")\n",
    "    if answer == \"25\":\n",
    "        print(\"Correct!\\\n",
    "        \\nThe diameter of the new fence would be 32 ÷ 4, which equals 8. \\\n",
    "        \\nThen, the circumference is 8 * pi. This equals 25.13274...m, or 25m.\")\n",
    "    \n",
    "    elif answer == \"\":\n",
    "        print(\"Type the circumference of the circle.\")\n",
    "        \n",
    "    else:\n",
    "        print(\"Incorrect.\\\n",
    "        \\nRemember, in this question we are given the perimeter of a square fence. \\\n",
    "        \\nTry finding how long the edge of the square fence is, and then use that as the diameter for the new fence.\")"
   ]
  },
  {
   "cell_type": "markdown",
   "metadata": {},
   "source": [
    "## Question 3"
   ]
  },
  {
   "cell_type": "markdown",
   "metadata": {},
   "source": [
    "You view the following **rectangle** from the black circle:"
   ]
  },
  {
   "cell_type": "markdown",
   "metadata": {},
   "source": [
    "<img src=\"../images/Question3.png\">"
   ]
  },
  {
   "cell_type": "code",
   "execution_count": null,
   "metadata": {},
   "outputs": [],
   "source": [
    "from ipywidgets import interact_manual,widgets\n",
    "\n",
    "print(\"What is the height of the rectangle? (Give the value in DECAMETERS)\")\n",
    "       \n",
    "@interact(answer =widgets.Text(\n",
    "    placeholder = \"Enter your number here\",\n",
    "    description='Answer: ',\n",
    "    disabled=False\n",
    "))\n",
    "\n",
    "def reflective_angle_question(answer):\n",
    "    answer = answer.replace(\" \", \"\")\n",
    "    if answer == \"1.24\":\n",
    "        print(\"Correct!\\\n",
    "        \\nThe height is equal to 12.4 meters. \\\n",
    "        \\nThen, we divide the height by 10 to get 1.24 decameters.\")\n",
    "    \n",
    "    elif answer == \"\":\n",
    "        print(\"Type the height of the rectangle.\")\n",
    "        \n",
    "    else:\n",
    "        print(\"Incorrect.\\\n",
    "        \\nRemember, in this question we want the value in decameters. \\\n",
    "        \\nTry using the length to the from the bottom to the top of the rectangle.\")"
   ]
  },
  {
   "cell_type": "code",
   "execution_count": null,
   "metadata": {},
   "outputs": [],
   "source": [
    "from ipywidgets import interact_manual,widgets\n",
    "\n",
    "print(\"What is the width of the rectangle? (Give the value in CENTIMETERS)\")\n",
    "       \n",
    "@interact(answer =widgets.Text(\n",
    "    placeholder = \"Enter your number here\",\n",
    "    description='Answer: ',\n",
    "    disabled=False\n",
    "))\n",
    "\n",
    "def reflective_angle_question(answer):\n",
    "    answer = answer.replace(\" \", \"\")\n",
    "    if answer == \"660\":\n",
    "        print(\"Correct!\\\n",
    "        \\nThe width is equal to 6.6 meters. \\\n",
    "        \\nThen, we multiply the width by 100 to get 660 centimeters.\")\n",
    "    \n",
    "    elif answer == \"\":\n",
    "        print(\"Type the width of the rectangle.\")\n",
    "        \n",
    "    else:\n",
    "        print(\"Incorrect.\\\n",
    "        \\nRemember, in this question we want the value in centimeters. \\\n",
    "        \\nTry using the length at the bottom of the rectangle.\")"
   ]
  },
  {
   "cell_type": "code",
   "execution_count": null,
   "metadata": {},
   "outputs": [],
   "source": [
    "from ipywidgets import interact_manual,widgets\n",
    "\n",
    "print(\"What is the depth of the rectangle? (Give the value in HECTOMETERS)\")\n",
    "       \n",
    "@interact(answer = widgets.Text(\n",
    "    placeholder = \"Enter your number here\",\n",
    "    description= 'Answer: ',\n",
    "    disabled= False\n",
    "))\n",
    "\n",
    "def reflective_angle_question(answer):\n",
    "    answer = answer.replace(\" \" , \"\")\n",
    "    if answer == \"0.034\":\n",
    "        print(\"Correct!\\\n",
    "        \\nThe depth is equal to 3.4 meters. \\\n",
    "        \\nThen, we divide the depth by 100 to get 0.034 hectometers.\")\n",
    "    \n",
    "    elif answer == \"\":\n",
    "        print(\"Type the width of the rectangle.\")\n",
    "        \n",
    "    else:\n",
    "        print(\"Incorrect.\\\n",
    "        \\nRemember, in this question we want the value in hectometers. \\\n",
    "        \\nTry using the length at the side of the rectangle.\")"
   ]
  },
  {
   "cell_type": "markdown",
   "metadata": {},
   "source": [
    "\n",
    "<h1 align='center'> Summary </h1>"
   ]
  },
  {
   "cell_type": "markdown",
   "metadata": {
    "slideshow": {
     "slide_type": "slide"
    }
   },
   "source": [
    "You will now know how to find **length**, **width**, **perimeter** and **circumference**. Additionally, you will know how to find **height**, **depth**, and **thickness**. You have also been introduced to the **metric units**, and how to use them."
   ]
  },
  {
   "cell_type": "markdown",
   "metadata": {},
   "source": [
    "[![Callysto.ca License](https://github.com/callysto/curriculum-notebooks/blob/master/callysto-notebook-banner-bottom.jpg?raw=true)](https://github.com/callysto/curriculum-notebooks/blob/master/LICENSE.md)"
   ]
  }
 ],
 "metadata": {
  "kernelspec": {
   "display_name": "Python 3",
   "language": "python",
   "name": "python3"
  },
  "language_info": {
   "codemirror_mode": {
    "name": "ipython",
    "version": 3
   },
   "file_extension": ".py",
   "mimetype": "text/x-python",
   "name": "python",
   "nbconvert_exporter": "python",
   "pygments_lexer": "ipython3",
   "version": "3.7.6"
  }
 },
 "nbformat": 4,
 "nbformat_minor": 2
}
