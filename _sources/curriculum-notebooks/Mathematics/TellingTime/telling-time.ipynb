{
 "cells": [
  {
   "cell_type": "markdown",
   "metadata": {},
   "source": [
    "![Callysto.ca Banner](https://github.com/callysto/curriculum-notebooks/blob/master/callysto-notebook-banner-top.jpg?raw=true)\n",
    "\n",
    "<a href=\"https://hub.callysto.ca/jupyter/hub/user-redirect/git-pull?repo=https%3A%2F%2Fgithub.com%2Fcallysto%2Fcurriculum-notebooks&branch=master&subPath=Mathematics/TellingTime/telling-time.ipynb&depth=1\" target=\"_parent\"><img src=\"https://raw.githubusercontent.com/callysto/curriculum-notebooks/master/open-in-callysto-button.svg?sanitize=true\" width=\"123\" height=\"24\" alt=\"Open in Callysto\"/></a>"
   ]
  },
  {
   "cell_type": "code",
   "execution_count": null,
   "metadata": {},
   "outputs": [],
   "source": [
    "from IPython.display import HTML\n",
    "from IPython.display import YouTubeVideo\n",
    "import myMagics\n",
    "%uiButtons"
   ]
  },
  {
   "cell_type": "markdown",
   "metadata": {},
   "source": [
    "*Note: Run the cell above then click on the \"Initialize\" button to get notebook ready*"
   ]
  },
  {
   "cell_type": "markdown",
   "metadata": {},
   "source": [
    "# Time\n",
    "Time is a concept we are all very familiar with. Seconds, minutes, hours, and days are simply part of our everyday life. Have you ever wondered about how all these units of time relate or why we use \"am\" and \"pm\" when talking about the hours of the day? \n",
    "\n",
    "There are two important distinctions to make when thinking of time:\n",
    " 1. Telling the time - looking at a clock and knowing what time it is.\n",
    " 2. Measuring the time - using a clock or other tools to measure how long something takes.\n",
    "\n",
    "In this notebook we will explore the relationships between all the different units of time and how to use different tools to read and keep track of time. We will also learn how to easily convert between hours, minutes and seconds."
   ]
  },
  {
   "cell_type": "markdown",
   "metadata": {},
   "source": [
    "## A Little History\n",
    "When thinking of the different times of the day one thing stands out: there are two of each hour in the day; for example, 2 AM and 2 PM. Why is that?\n",
    "\n",
    "This dates back to the Roman times. It was decided a day should be split up into two parts, one part for day time and the other for night time.\n",
    "\n",
    "Eventually this split was made to use noon and midnight as the points where it changes from one part of the day to the other\n",
    "\n",
    "- AM means \"ante meridiem\" which means \"before midday\"\n",
    "\n",
    "- PM means \"post meridiem\" which means \"after midday\"\n",
    "\n",
    "Click on the \"More\" button for more details"
   ]
  },
  {
   "cell_type": "markdown",
   "metadata": {},
   "source": [
    "<div class=\"hideMe\">\n",
    "Initially to do this split the Romans decided to break the day up into two 12 hour blocks. As we can imagine from back in those days it would only be logical to make the 12 hours in the \"day\" start at sunrise and the 12 hours of the \"night\" start at dusk. But since the day/night cycle changes over the year (shorter days in winter for example), this caused problems.<br>\n",
    "\n",
    "\n",
    "Eventually it was decided to change from sunset/dusk to midnight/midday, this is where AM and PM where born. AM means \"ante meridiem\" which stands for \"before midday\" and PM means \"post meridiem\" meaning, you guessed it, \"after midday\". When you think about it this makes sense: 3PM is 3 hours past the midday. Eventually it was decided that keeping one day split up into 24 hours instead of two blocks of 12 hours made more sense. The 24 hour clock was then introduced. The hours on this clock range from 0 to 23 (totaling 24 hours). We in North America still frequently use the AM/PM 12 hour day format but many parts of the world use the 24 hour clock."
   ]
  },
  {
   "cell_type": "code",
   "execution_count": null,
   "metadata": {},
   "outputs": [],
   "source": [
    "%toggleMore"
   ]
  },
  {
   "cell_type": "markdown",
   "metadata": {},
   "source": [
    "## How Well do you Know Time?\n",
    "Ok so now that we have a little background on how our measurements of time came about, let's play a little game. Do you think you can guess exactly 15 seconds without using a clock? If you think you can do it, click the button below. When you think it’s been 15 seconds click it again and see how close you are. (Click again if you want to retry)"
   ]
  },
  {
   "cell_type": "code",
   "execution_count": null,
   "metadata": {},
   "outputs": [],
   "source": [
    "HTML(filename='TimeGuessWidget.html')"
   ]
  },
  {
   "cell_type": "markdown",
   "metadata": {},
   "source": [
    "So how did you do? Not as easy as it seems eh. Most people, when trying this the first time, end up clicking much too early. You may have counted up to 15 \"Mississippi’s\" in your head which can help get closer to 15 seconds, but what if I asked you to guess 3 minutes? Rhythmically counting to 180 \"Mississippi’s\" is not particularly fun . This example shows the importance of using tools to more accurately measure time."
   ]
  },
  {
   "cell_type": "markdown",
   "metadata": {},
   "source": [
    "# Reading Time\n",
    "\n",
    "Long ago before electricity was invented, ancient civilizations had to find other cleaver ways of reading time. Two common techniques used where:\n",
    "1. Using the position of the sun to know the time of day\n",
    "<img src=\"https://upload.wikimedia.org/wikipedia/commons/6/66/Sundial_-_Canonical_Hour.jpg\" width=\"400\" style=\"box-shadow: 4px 4px 12px gray;margin: 5px;\">\n",
    "2. Studying the position of the stars was used to know time in the night\n",
    "<img src=\"https://c.tadst.com/gfx/750x500/tell-time-with-stars.png?1\" width=\"400\" style=\"box-shadow: 4px 4px 12px gray;margin: 5px;\">\n",
    "\n",
    "Now days the time is everywhere and is easily accessible. The main two ways of displaying time are using a digital clock or analog. Digital represents the time as numbers, an analog clock represents the time using clock hands going in circle."
   ]
  },
  {
   "cell_type": "markdown",
   "metadata": {},
   "source": [
    "<div class=\"hideMe\">\n",
    "\n",
    "These days the time is everywhere. We simply look for a clock on a wall, appliance, a watch, or our phones. This was not always the case though. Does this mean time did not exist long ago? Egyptians 1500 BC (roughly 3500 years ago) were very much aware of time and found very clever ways for measuring it. For these ancient civilizations, as for us, knowing the time and months of the year was crucial to their survival. It turns out the most important clocks of all where not found on earth but in the sky! The stars and sun have been used to measure time for thousands of years and by many civilizations. Using the position of the sun casting shadows was used during the day and the position of known constellations were used at night. \n",
    "\n",
    "Luckily for us we have evolved far beyond using the sun and stars to tell time. Imagine trying to get to school on time on a cloudy day! Now when we get a new watch or clock we simply synchronize it to match another time piece showing the correct time. More and more, as devices are connected to the internet we don’t even have to set the time, it is done automatically!"
   ]
  },
  {
   "cell_type": "code",
   "execution_count": null,
   "metadata": {},
   "outputs": [],
   "source": [
    "%toggleMore"
   ]
  },
  {
   "cell_type": "markdown",
   "metadata": {},
   "source": [
    "## Units of Time\n",
    "So if I ask you what time it is right now you could easily look at a clock and tell me right? For example you could go as far as saying \"it is 11:37:12 on Monday December 17, 2018\". Now, that is probably a lot more information then was asked when asking for the time but bear with me. Let's break down all the components of that sentence: \n",
    "\n",
    "- 1 year is made up of 365 days (366 if the year is leap)\n",
    "- 1 day is made up of 24 hours\n",
    "- 1 hour is made up of 60 minutes\n",
    "- 1 minutes is made up of 60 seconds\n",
    "- 1 second is made up of 1000 milliseconds\n",
    "\n",
    "We could keep going but already 1 millisecond happens so fast that they are rarely used in everyday life.\n",
    "\n",
    "Let's visualize this by using an analog clock. If you count all the ticks around the clock you will find out that there are 60 of them. This makes sense, as 1 one hour is made up of 60 minutes and 1 minute is made up of 60 seconds. In everyday life we know a clock only ever goes forward, and some might say it moves relatively slow. This can make it hard to fully understand its pattern. This example breaks these rules and allows you to manipulate the clock forward and backwards, fast or slow. \n",
    "\n",
    "If you adjust the slider below the clock you will see that the hands will begin to move. Each tick on the slider represents a second. Try adjusting the time to see how each hand behaves. (You can also use your keyboard's side arrows to tick through 1 second at a time)"
   ]
  },
  {
   "cell_type": "code",
   "execution_count": null,
   "metadata": {},
   "outputs": [],
   "source": [
    "from IPython.display import HTML\n",
    "HTML(filename='ClockWidget.html')"
   ]
  },
  {
   "cell_type": "markdown",
   "metadata": {},
   "source": [
    "What have you noticed about the relationships between the hands as you slide back and forth? \n",
    "Two important things to notice about the clock:\n",
    "1. In order for the minute hand (blue) to move one full tick the seconds hand (red) must do one full rotation\n",
    "2. When the minute hand does a full rotation the hour hand will have moved 5 ticks\n",
    "\n",
    "Why does the hour hand move 5 ticks per minute rotation? That is because a day has 24 hours, not 60 hours. Remember earlier when we talked about AM and PM, the 24 hour day was broken down into two 12 hour sections. So we can see that if we divide a full rotation (60 minutes) into 12 hours we get $$60\\div12=5$$ This means in the time the minute hand does a full rotation, meaning 60 minutes, the hour hand will advance 5 ticks on the clock. You will see this happening if you slide the slider from the far left all the way to the far right, the minute hand will have done a full rotation and the hour hand will have moved 5 ticks. \n",
    "\n",
    "Now that we have a better understanding of the relationships between the units, can we figure out how many seconds are in 1 hour? Sure we can! Let's think about this. In 1 hour the minute hand goes around 60 times and for each one of these minutes the seconds hand goes around 60 times, this must mean $$60_\\frac{min}{hr} \\times60_\\frac{sec}{min}=3600_\\frac{sec}{hr}$$ So 1 hour has 3600 seconds. This means if you use your keyboard arrows on the slider from left to right you will need to push it 3600 times!! (Don't do that.)\n",
    "\n",
    "Based on this math can you figure out how many seconds are in a day? or how many minutes are in a week?"
   ]
  },
  {
   "cell_type": "markdown",
   "metadata": {},
   "source": [
    "## Measuring Time\n",
    "So as we all know being able to tell the time is a crucial part of our everyday lives. It helps us know when we have appointments, when we should eat or when we should go to sleep. \n",
    "\n",
    "Time also has many other great uses like keeping time for a hockey game or measuring how long it takes to drive from one city to another. \n",
    "\n",
    "Let's take travelling from city to another as an example. Say you are going from Calgary to Edmonton and you want to calculate how long the trip takes. The simplest way of doing this without extra tools is to write down the time when you leave and then check the time when you arrive. Now all we do is take the difference between these two times.\n",
    "\n",
    "Let's say you leave at 1:32 and arrive at 4:47. You can probably estimate in your head that the trip took a little over 3 hours, but we can calculate it exactly. To make this simpler we will convert the format from hours:minutes to just have minutes. Let's recall how many minutes are in 1 hour to get the following: \n",
    "$$(1_{hr}\\times60_\\frac{min}{hr})+32_{min}=60_{min} + 32_{min}=92_{min}$$ \n",
    "$$(4_{hr}\\times60_\\frac{min}{hr})+47_{min}=240_{min} + 47_{min}=287_{min}$$ \n",
    "\n",
    "*Notice these times in minutes actually mean 92 min and 287 min past noon respectivly*\n",
    "\n",
    "And now we get the difference: \n",
    "$$287_{min}-92_{min}=195_{min}$$ \n",
    "\n",
    "So the trip took 195 minutes to get from Calgary to Edmonton. To get it back into the hours:minutes format we need to figure out how many times $195$ can be divided by $60$. We can see that $60$ will fit $3$ times inside $195$ and we will be left with a remainder of $15$, so the trip took $3$ hours and $15$ minutes.\n",
    "\n",
    "Ok so that wasn't too bad. It took some work to get an exact value but it is definitely doable. Now let's take our hockey example and look at how we could keep track of the time for the game. A few things to consider before attempting this \n",
    "1. The time goes backwards from 20 minutes down to 0 milliseconds\n",
    "2. The time has to stop every time the whistle is blown\n",
    "3. The time has to be accurate to the 100th millisecond\n",
    "\n",
    "Analyzing this problem we can quickly see that if all we have is a regular clock then a hockey game would take a very long time between each whistle blown as someone would have to calculate the differences in time between each stop and start. Thankfully we have many different types of tools to measure times like this. In this case a scoreboard with a timeclock built in does the trick. \n",
    "\n",
    "Now all the time keeper has to do is stop and start time as the whistle is blown and the play starts again."
   ]
  },
  {
   "cell_type": "markdown",
   "metadata": {},
   "source": [
    "<div class=\"hideMe\">\n",
    "In other sports sometimes a fraction of a second makes the difference between first and second place. Precise measurements of time may also be needed during a critical science experiment. With examples like these we can see that a person's reflex to start/stop a clock is probably not going to cut it. Many other techniques have been developed to overcome these challenges. Laser sensors are far more accurate then the human hand-to-eye coordination. \n",
    "<img src=\"https://upload.wikimedia.org/wikipedia/commons/thumb/c/c0/LightBeamTiming.jpg/220px-LightBeamTiming.jpg\" style=\"box-shadow: 4px 4px 12px gray;\">\n",
    "The image above is of a light beam sensor used on the Olympic track."
   ]
  },
  {
   "cell_type": "code",
   "execution_count": null,
   "metadata": {},
   "outputs": [],
   "source": [
    "%toggleMore"
   ]
  },
  {
   "cell_type": "markdown",
   "metadata": {},
   "source": [
    "## 24-Hour Clock\n",
    "As we now know a day has 24 hours. We also know why AM and PM were introduced and still used today. Another wildly popular way of representing time is to use the 24-hour clock. The 24-hour clock eliminates the need to us AM and PM. Using the 24-hour clock simply means we don't go back to one after we pass noon, we keep going from 12 to 13. This may seem odd at first since saying it is 13 o'clock is not something we are use to. \n",
    "\n",
    "One major benefit to using this format is that you will never set your alarm wrong by putting 8PM instead of 8AM; 8 just means 8 in the morning and 20 means 8 at night. \n",
    "\n",
    "If you use this format enough, knowing that 16:03 simply means 4:03pm becomes second nature, but you're probably wondering how to quickly get this answer when you are not used to it yet. \n",
    "\n",
    "All you have to do is take the hour $16$ and subtract $12$ from it so $$16-12=4\\text{ o'clock PM.}$$ A good way to quickly do this in your head is to first take away $10$ which is easy to do then remove the last $2$, so $$16-10=6,$$ and then $$6-2=4\\text{ o'clock.}$$ Give this a try: what time is 18:39? How about 22:18?\n",
    "\n",
    "Many modern watches, smartphones, alarm clocks, etc. allow you to use the 24 hour clock. Try it out for a week or two and see how fast you adjust to this format."
   ]
  },
  {
   "cell_type": "markdown",
   "metadata": {},
   "source": [
    "# Different Ways to Express Time\n",
    "Now that we have a much better understanding of how time works and the relationships between the different units we can start getting creative and come up with other ways to express time. Check out this video for an abstract wooden pendulum clock"
   ]
  },
  {
   "cell_type": "code",
   "execution_count": null,
   "metadata": {},
   "outputs": [],
   "source": [
    "YouTubeVideo('9ZzkMIrWdPE', width=800, height=550)"
   ]
  },
  {
   "cell_type": "markdown",
   "metadata": {},
   "source": [
    "Here is another abstract way of telling time, can you decipher what each colour represent?\n",
    "\n",
    "You can speed up the clock to see how each ring behaves over time, when you think you have figured it out check your answers below."
   ]
  },
  {
   "cell_type": "code",
   "execution_count": null,
   "metadata": {},
   "outputs": [],
   "source": [
    "from IPython.display import HTML\n",
    "HTML(filename='AbsClockWidget.html')"
   ]
  },
  {
   "cell_type": "code",
   "execution_count": null,
   "metadata": {},
   "outputs": [],
   "source": [
    "from IPython.display import HTML\n",
    "HTML(filename='questions.html')"
   ]
  },
  {
   "cell_type": "markdown",
   "metadata": {},
   "source": [
    "## Conclusion\n",
    "In this notebook we explored:\n",
    "1. Some history of time and where AM and PM comes from\n",
    "2. The relationships between the different units of time and how the behave together\n",
    "3. Examples of tools to use the time in different ways (Time for a sports game)\n",
    "4. How to use the 24-hour clock"
   ]
  },
  {
   "cell_type": "markdown",
   "metadata": {},
   "source": [
    "[![Callysto.ca License](https://github.com/callysto/curriculum-notebooks/blob/master/callysto-notebook-banner-bottom.jpg?raw=true)](https://github.com/callysto/curriculum-notebooks/blob/master/LICENSE.md)"
   ]
  }
 ],
 "metadata": {
  "kernelspec": {
   "display_name": "Python 3",
   "language": "python",
   "name": "python3"
  },
  "language_info": {
   "codemirror_mode": {
    "name": "ipython",
    "version": 3
   },
   "file_extension": ".py",
   "mimetype": "text/x-python",
   "name": "python",
   "nbconvert_exporter": "python",
   "pygments_lexer": "ipython3",
   "version": "3.7.6"
  }
 },
 "nbformat": 4,
 "nbformat_minor": 2
}
